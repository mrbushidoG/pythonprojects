{
 "cells": [
  {
   "cell_type": "code",
   "execution_count": 1,
   "id": "1e4f59c1",
   "metadata": {},
   "outputs": [],
   "source": [
    "mylist = [1,2,3]"
   ]
  },
  {
   "cell_type": "code",
   "execution_count": 3,
   "id": "352adc66",
   "metadata": {},
   "outputs": [],
   "source": [
    "class Dog():\n",
    "    \n",
    "    # Class object attribute\n",
    "    # Same for any instance of a class\n",
    "    species = 'mammal'\n",
    "    \n",
    "    def __init__(self,breed,name):\n",
    "        self.breed = breed\n",
    "        self.name = name\n",
    "        \n",
    "        # Except boolean True/False\n",
    "            \n",
    "    def bark(self,age):\n",
    "        print(\"WOOF! My name is  {} and my age is {}\".format(self.name,age))"
   ]
  },
  {
   "cell_type": "code",
   "execution_count": 4,
   "id": "b5d8f874",
   "metadata": {},
   "outputs": [],
   "source": [
    "my_dog = Dog('Huskie','Milo')\n",
    "my_dog2 = Dog('Sheperad','German')"
   ]
  },
  {
   "cell_type": "code",
   "execution_count": 6,
   "id": "1e021370",
   "metadata": {},
   "outputs": [
    {
     "data": {
      "text/plain": [
       "__main__.Dog"
      ]
     },
     "execution_count": 6,
     "metadata": {},
     "output_type": "execute_result"
    }
   ],
   "source": [
    "type(my_dog)"
   ]
  },
  {
   "cell_type": "code",
   "execution_count": 8,
   "id": "7d1bc6e8",
   "metadata": {},
   "outputs": [
    {
     "data": {
      "text/plain": [
       "<bound method Dog.bark of <__main__.Dog object at 0x000001B7852EAE20>>"
      ]
     },
     "execution_count": 8,
     "metadata": {},
     "output_type": "execute_result"
    }
   ],
   "source": [
    "my_dog.bark"
   ]
  },
  {
   "cell_type": "code",
   "execution_count": 5,
   "id": "2ea152ac",
   "metadata": {},
   "outputs": [
    {
     "name": "stdout",
     "output_type": "stream",
     "text": [
      "WOOF! My name is  Milo and my age is 12\n"
     ]
    }
   ],
   "source": [
    "my_dog.bark(12)"
   ]
  },
  {
   "cell_type": "code",
   "execution_count": 6,
   "id": "10ea8de6",
   "metadata": {},
   "outputs": [
    {
     "data": {
      "text/plain": [
       "'mammal'"
      ]
     },
     "execution_count": 6,
     "metadata": {},
     "output_type": "execute_result"
    }
   ],
   "source": [
    "my_dog2.species"
   ]
  },
  {
   "cell_type": "code",
   "execution_count": null,
   "id": "c174f18f",
   "metadata": {},
   "outputs": [],
   "source": []
  },
  {
   "cell_type": "code",
   "execution_count": 7,
   "id": "b5784943",
   "metadata": {},
   "outputs": [],
   "source": [
    "class Circle():\n",
    "    \n",
    "    #Class object attribute\n",
    "    pi = 3.14\n",
    "    \n",
    "    def __init__(self,radius=1):\n",
    "        \n",
    "        self.radius = radius\n",
    "    \n",
    "    \n",
    "    # Method\n",
    "    def get_circumference(self):\n",
    "        return self.radius*self.pi*2"
   ]
  },
  {
   "cell_type": "code",
   "execution_count": 10,
   "id": "52287589",
   "metadata": {},
   "outputs": [],
   "source": [
    "get_circle = Circle(30)"
   ]
  },
  {
   "cell_type": "code",
   "execution_count": 11,
   "id": "c6bcf506",
   "metadata": {},
   "outputs": [
    {
     "data": {
      "text/plain": [
       "188.4"
      ]
     },
     "execution_count": 11,
     "metadata": {},
     "output_type": "execute_result"
    }
   ],
   "source": [
    "get_circle.get_circumference()"
   ]
  },
  {
   "cell_type": "code",
   "execution_count": null,
   "id": "225a46b6",
   "metadata": {},
   "outputs": [],
   "source": []
  }
 ],
 "metadata": {
  "kernelspec": {
   "display_name": "Python 3 (ipykernel)",
   "language": "python",
   "name": "python3"
  },
  "language_info": {
   "codemirror_mode": {
    "name": "ipython",
    "version": 3
   },
   "file_extension": ".py",
   "mimetype": "text/x-python",
   "name": "python",
   "nbconvert_exporter": "python",
   "pygments_lexer": "ipython3",
   "version": "3.9.7"
  }
 },
 "nbformat": 4,
 "nbformat_minor": 5
}
